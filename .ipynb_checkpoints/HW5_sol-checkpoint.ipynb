{
 "cells": [
  {
   "cell_type": "markdown",
   "metadata": {},
   "source": [
    "## 練習 5-1\n",
    "> * 將 lenaColor.png 彩色讀入\n",
    "> * 依序濾波 (原圖 > 平均濾波 > 高斯濾波 > 中值濾波)\n",
    ">> * 平均濾波器(3*3)\n",
    ">> * 高斯濾波器(5*5)、\n",
    ">> * 中值濾波器(5*5)、\n",
    "> * 分別 show 出 : 原圖, 和三個濾波後的圖"
   ]
  },
  {
   "cell_type": "code",
   "execution_count": 24,
   "metadata": {},
   "outputs": [
    {
     "data": {
      "text/plain": [
       "-1"
      ]
     },
     "execution_count": 24,
     "metadata": {},
     "output_type": "execute_result"
    }
   ],
   "source": [
    "import cv2\n",
    "import numpy as np\n",
    "\n",
    "img = cv2.imread('./image/lenaColor.png')\n",
    "imgblur = cv2.blur(img.copy(), (3, 3))\n",
    "\n",
    "imgGs =cv2.GaussianBlur(imgblur, (5, 5), 0)\n",
    "imgBl = cv2.medianBlur(imgGs, 5)\n",
    "\n",
    "cv2.imshow('0. original', img)\n",
    "cv2.imshow('1. imgblur',imgblur)\n",
    "cv2.imshow('2. imgGs', imgGs)  \n",
    "cv2.imshow('3. imgBl', imgBl)  \n",
    "cv2.waitKey(0)\n",
    "cv2.destroyAllWindows()\n",
    "cv2.waitKey(1)"
   ]
  }
 ],
 "metadata": {
  "kernelspec": {
   "display_name": "Python 3.6.8 64-bit",
   "language": "python",
   "name": "python36864bite2f03d1e5c5849e692bb3a9357569209"
  },
  "language_info": {
   "codemirror_mode": {
    "name": "ipython",
    "version": 3
   },
   "file_extension": ".py",
   "mimetype": "text/x-python",
   "name": "python",
   "nbconvert_exporter": "python",
   "pygments_lexer": "ipython3",
   "version": "3.6.8"
  }
 },
 "nbformat": 4,
 "nbformat_minor": 4
}
