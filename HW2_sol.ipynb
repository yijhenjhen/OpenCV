{
 "cells": [
  {
   "cell_type": "markdown",
   "metadata": {},
   "source": [
    "## 練習 2-1 解答\n",
    "在一個 $512*512*3$ 的黑色畫布上, 利用畫圓的函數 cv2.circle, for loop 和 亂數\n",
    ">* 畫出 12 等距同心圓\n",
    ">* 12 同心圓RGB顏色隨機變換, 每次不一樣<br>\n",
    "><img src=\".\\image\\circle2-1.jpg\"  style='height:300px; width:300px'>"
   ]
  },
  {
   "cell_type": "code",
   "execution_count": 6,
   "metadata": {},
   "outputs": [
    {
     "data": {
      "text/plain": [
       "-1"
      ]
     },
     "execution_count": 6,
     "metadata": {},
     "output_type": "execute_result"
    }
   ],
   "source": [
    "import numpy as np\n",
    "import cv2\n",
    "import random\n",
    "\n",
    "gc = np.zeros((512, 512, 3), dtype='uint8')\n",
    "\n",
    "count=12\n",
    "for i in range(1,count+1):\n",
    "    b=int(random.random()*256)\n",
    "    g=int(random.random()*256)\n",
    "    r=int(random.random()*256)\n",
    "#     b, g, r = np.random.randint(0, 256, size=[3,1], dtype=np.uint8)\n",
    "#     print(b,g,r)\n",
    "    cv2.circle(gc, (254, 254), i*20, (b, g, r), 5)\n",
    "\n",
    "cv2.imshow('draw', gc) \n",
    "# cv2.imwrite('./image/circle2-1.jpg', gc)\n",
    "cv2.waitKey(0)\n",
    "cv2.destroyAllWindows()\n",
    "cv2.waitKey(1)"
   ]
  },
  {
   "cell_type": "markdown",
   "metadata": {},
   "source": [
    "---\n",
    "## 練習 2-2\n",
    "在一個 $512*512*3$ 的黑色畫布上, 利用畫圓的函數 cv2.ellipse 和 for loop\n",
    ">* 畫出 12 同心等分 360 度橢圓, 顏色一樣<br>\n",
    "><img src=\".\\image\\ellipse2-2.jpg\"  style='height:300px; width:300px'>"
   ]
  },
  {
   "cell_type": "code",
   "execution_count": 7,
   "metadata": {},
   "outputs": [
    {
     "data": {
      "text/plain": [
       "-1"
      ]
     },
     "execution_count": 7,
     "metadata": {},
     "output_type": "execute_result"
    }
   ],
   "source": [
    "import numpy as np\n",
    "import cv2\n",
    "import random\n",
    "\n",
    "gc = np.zeros((512, 512, 3), dtype='uint8')\n",
    "\n",
    "unit = 10\n",
    "for i in range(unit):\n",
    "    cv2.ellipse(gc, (256, 256), (200, 40), 360/unit*i, 0, 360, (80, 127, 255), 2)\n",
    "\n",
    "cv2.imshow('draw', gc) \n",
    "# cv2.imwrite('./image/ellipse2-2.jpg', gc)\n",
    "\n",
    "cv2.waitKey(0)\n",
    "cv2.destroyAllWindows()\n",
    "cv2.waitKey(1)"
   ]
  },
  {
   "cell_type": "code",
   "execution_count": null,
   "metadata": {},
   "outputs": [],
   "source": []
  }
 ],
 "metadata": {
  "kernelspec": {
   "display_name": "Python 3.6.8 64-bit",
   "language": "python",
   "name": "python36864bite2f03d1e5c5849e692bb3a9357569209"
  },
  "language_info": {
   "codemirror_mode": {
    "name": "ipython",
    "version": 3
   },
   "file_extension": ".py",
   "mimetype": "text/x-python",
   "name": "python",
   "nbconvert_exporter": "python",
   "pygments_lexer": "ipython3",
   "version": "3.6.8"
  }
 },
 "nbformat": 4,
 "nbformat_minor": 4
}
